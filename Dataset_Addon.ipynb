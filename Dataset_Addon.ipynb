{
 "cells": [
  {
   "cell_type": "code",
   "execution_count": 28,
   "id": "e70fcf94",
   "metadata": {},
   "outputs": [],
   "source": [
    "import numpy as np\n",
    "import pandas as pd\n",
    "import cv2\n",
    "from numpy import random, moveaxis\n",
    "import os\n",
    "import pyautogui\n",
    "from win32api import GetSystemMetrics\n",
    "import matplotlib.pyplot as plt"
   ]
  },
  {
   "cell_type": "code",
   "execution_count": 109,
   "id": "2162dc9c",
   "metadata": {},
   "outputs": [
    {
     "name": "stdout",
     "output_type": "stream",
     "text": [
      "(13, 3)\n"
     ]
    },
    {
     "data": {
      "text/html": [
       "<div>\n",
       "<style scoped>\n",
       "    .dataframe tbody tr th:only-of-type {\n",
       "        vertical-align: middle;\n",
       "    }\n",
       "\n",
       "    .dataframe tbody tr th {\n",
       "        vertical-align: top;\n",
       "    }\n",
       "\n",
       "    .dataframe thead th {\n",
       "        text-align: right;\n",
       "    }\n",
       "</style>\n",
       "<table border=\"1\" class=\"dataframe\">\n",
       "  <thead>\n",
       "    <tr style=\"text-align: right;\">\n",
       "      <th></th>\n",
       "      <th>emotion</th>\n",
       "      <th>pixels</th>\n",
       "      <th>Usage</th>\n",
       "    </tr>\n",
       "  </thead>\n",
       "  <tbody>\n",
       "    <tr>\n",
       "      <th>0</th>\n",
       "      <td>0</td>\n",
       "      <td>70 80 82 72 58 58 60 63 54 58 60 48 89 115 121...</td>\n",
       "      <td>Training</td>\n",
       "    </tr>\n",
       "    <tr>\n",
       "      <th>1</th>\n",
       "      <td>0</td>\n",
       "      <td>151 150 147 155 148 133 111 140 170 174 182 15...</td>\n",
       "      <td>Training</td>\n",
       "    </tr>\n",
       "    <tr>\n",
       "      <th>2</th>\n",
       "      <td>2</td>\n",
       "      <td>231 212 156 164 174 138 161 173 182 200 106 38...</td>\n",
       "      <td>Training</td>\n",
       "    </tr>\n",
       "    <tr>\n",
       "      <th>3</th>\n",
       "      <td>4</td>\n",
       "      <td>24 32 36 30 32 23 19 20 30 41 21 22 32 34 21 1...</td>\n",
       "      <td>Training</td>\n",
       "    </tr>\n",
       "    <tr>\n",
       "      <th>4</th>\n",
       "      <td>6</td>\n",
       "      <td>4 0 0 0 0 0 0 0 0 0 0 0 3 15 23 28 48 50 58 84...</td>\n",
       "      <td>Training</td>\n",
       "    </tr>\n",
       "    <tr>\n",
       "      <th>5</th>\n",
       "      <td>2</td>\n",
       "      <td>55 55 55 55 55 54 60 68 54 85 151 163 170 179 ...</td>\n",
       "      <td>Training</td>\n",
       "    </tr>\n",
       "    <tr>\n",
       "      <th>6</th>\n",
       "      <td>4</td>\n",
       "      <td>20 17 19 21 25 38 42 42 46 54 56 62 63 66 82 1...</td>\n",
       "      <td>Training</td>\n",
       "    </tr>\n",
       "    <tr>\n",
       "      <th>7</th>\n",
       "      <td>3</td>\n",
       "      <td>77 78 79 79 78 75 60 55 47 48 58 73 77 79 57 5...</td>\n",
       "      <td>Training</td>\n",
       "    </tr>\n",
       "    <tr>\n",
       "      <th>8</th>\n",
       "      <td>3</td>\n",
       "      <td>85 84 90 121 101 102 133 153 153 169 177 189 1...</td>\n",
       "      <td>Training</td>\n",
       "    </tr>\n",
       "    <tr>\n",
       "      <th>9</th>\n",
       "      <td>2</td>\n",
       "      <td>255 254 255 254 254 179 122 107 95 124 149 150...</td>\n",
       "      <td>Training</td>\n",
       "    </tr>\n",
       "    <tr>\n",
       "      <th>10</th>\n",
       "      <td>0</td>\n",
       "      <td>30 24 21 23 25 25 49 67 84 103 120 125 130 139...</td>\n",
       "      <td>Training</td>\n",
       "    </tr>\n",
       "    <tr>\n",
       "      <th>11</th>\n",
       "      <td>6</td>\n",
       "      <td>39 75 78 58 58 45 49 48 103 156 81 45 41 38 49...</td>\n",
       "      <td>Training</td>\n",
       "    </tr>\n",
       "    <tr>\n",
       "      <th>12</th>\n",
       "      <td>6</td>\n",
       "      <td>219 213 206 202 209 217 216 215 219 218 223 23...</td>\n",
       "      <td>Training</td>\n",
       "    </tr>\n",
       "  </tbody>\n",
       "</table>\n",
       "</div>"
      ],
      "text/plain": [
       "    emotion                                             pixels     Usage\n",
       "0         0  70 80 82 72 58 58 60 63 54 58 60 48 89 115 121...  Training\n",
       "1         0  151 150 147 155 148 133 111 140 170 174 182 15...  Training\n",
       "2         2  231 212 156 164 174 138 161 173 182 200 106 38...  Training\n",
       "3         4  24 32 36 30 32 23 19 20 30 41 21 22 32 34 21 1...  Training\n",
       "4         6  4 0 0 0 0 0 0 0 0 0 0 0 3 15 23 28 48 50 58 84...  Training\n",
       "5         2  55 55 55 55 55 54 60 68 54 85 151 163 170 179 ...  Training\n",
       "6         4  20 17 19 21 25 38 42 42 46 54 56 62 63 66 82 1...  Training\n",
       "7         3  77 78 79 79 78 75 60 55 47 48 58 73 77 79 57 5...  Training\n",
       "8         3  85 84 90 121 101 102 133 153 153 169 177 189 1...  Training\n",
       "9         2  255 254 255 254 254 179 122 107 95 124 149 150...  Training\n",
       "10        0  30 24 21 23 25 25 49 67 84 103 120 125 130 139...  Training\n",
       "11        6  39 75 78 58 58 45 49 48 103 156 81 45 41 38 49...  Training\n",
       "12        6  219 213 206 202 209 217 216 215 219 218 223 23...  Training"
      ]
     },
     "execution_count": 109,
     "metadata": {},
     "output_type": "execute_result"
    }
   ],
   "source": [
    "source = 'fer2013/sample_fer2013.csv'\n",
    "sample = pd.read_csv(source)\n",
    "print(sample.shape)\n",
    "sample.head(20)"
   ]
  },
  {
   "cell_type": "code",
   "execution_count": 71,
   "id": "a5b12f5b",
   "metadata": {},
   "outputs": [
    {
     "name": "stdout",
     "output_type": "stream",
     "text": [
      "9076\n",
      "2304\n"
     ]
    },
    {
     "data": {
      "image/png": "[encoded data removed]",
      "text/plain": [
       "<Figure size 432x288 with 1 Axes>"
      ]
     },
     "metadata": {
      "needs_background": "light"
     },
     "output_type": "display_data"
    }
   ],
   "source": [
    "line = sample['pixels'][9]\n",
    "print(len(line))\n",
    "image_data = np.asarray([int(x) for x in line.split()])  # numpy array\n",
    "print(len(image_data))\n",
    "img = image_data.reshape((48,48)).astype('uint8')  # 2-d numpy array\n",
    "# img = cv2.bitwise_not(img)  # w&b bitwise inverted or do not multiply by 255\n",
    "    \n",
    "# print(f'ID:{id} \\n{clases[clase]}')\n",
    "plt.imshow(img, cmap='gray', interpolation='nearest')\n",
    "plt.axis('off')\n",
    "plt.show()"
   ]
  },
  {
   "cell_type": "markdown",
   "id": "fbb87a9d",
   "metadata": {},
   "source": [
    "**New detections**"
   ]
  },
  {
   "cell_type": "code",
   "execution_count": 3,
   "id": "6b547f21",
   "metadata": {},
   "outputs": [],
   "source": [
    "# face detector\n",
    "protoPath = os.path.join('models', 'deploy.prototxt')\n",
    "modelPath = os.path.join('models', 'res10_300x300_ssd_iter_140000.caffemodel')\n",
    "detector = cv2.dnn.readNetFromCaffe(protoPath, modelPath)\n",
    "threshold = 0.45  # to filter out week face detections\n",
    "px_filter = 15  # size filter to ensure a sufficiently large face\n",
    "divider = 100  # every 100 fps (iterations) we save and c comes back to zero and then to start the counting again"
   ]
  },
  {
   "cell_type": "code",
   "execution_count": 143,
   "id": "5fbc2a41",
   "metadata": {},
   "outputs": [
    {
     "name": "stdout",
     "output_type": "stream",
     "text": [
      "Ok. Finished\n"
     ]
    }
   ],
   "source": [
    "VID = os.path.join('media', 'recording.avi')\n",
    "webcam = cv2.VideoCapture(VID)\n",
    "vectors = []  # pixels\n",
    "emos = []  # emotion\n",
    "Usage = []  # Usage\n",
    "\n",
    "c = 1\n",
    "while True:\n",
    "    ret, frame = webcam.read()\n",
    "    fps = webcam.get(cv2.CAP_PROP_POS_FRAMES)  # CAP_PROP_FS\n",
    "    \n",
    "    if ret is False:\n",
    "        print('Ok. Finished')\n",
    "        break\n",
    "    \n",
    "    if c%divider==0:  # c comes back to zero and then to start the counting again from 1\n",
    "        frame = cv2.normalize(frame, None, 10, 245, cv2.NORM_MINMAX)\n",
    "        (h_frame, w_frame) = frame.shape[:2]\n",
    "\n",
    "        imageBlob = cv2.dnn.blobFromImage(cv2.resize(frame, (300, 300)), 1.0, (300, 300), (104.0, 187.0, 123.), swapRB=False, crop=False)\n",
    "        detector.setInput(imageBlob)\n",
    "        detections = detector.forward()\n",
    "\n",
    "        for i in range(0, detections.shape[2]):\n",
    "\n",
    "            confidence = detections[0, 0, i, 2]\n",
    "\n",
    "            if confidence > threshold:\n",
    "                box = detections[0, 0, i, 3:7] * np.array([w_frame, h_frame, w_frame, h_frame])\n",
    "                (startX, startY, endX, endY) = box.astype(\"int\")  # x, y coordinates of the bounding box for the face\n",
    "                (startX, startY, endX, endY) = (5+startX, 5+startY, 5+endX, 5+endY)  # offset for classification\n",
    "\n",
    "                face = frame[startY:endY, startX:endX]\n",
    "                face = cv2.resize(face, (300, 300), interpolation=cv2.INTER_AREA)\n",
    "                (fH, fW) = face.shape[:2]\n",
    "                # n1 = os.path.join('fer2013', 'us', str(i)+'_'+str(fps)+'_color.jpg')\n",
    "                # cv2.imwrite(n1, face)\n",
    "\n",
    "                if fW < px_filter or fH < px_filter:\n",
    "                    continue\n",
    "\n",
    "                gray = cv2.cvtColor(face, cv2.COLOR_RGB2GRAY)\n",
    "                # cv2.imwrite('text2.jpg', gray)\n",
    "\n",
    "                gray48 = cv2.resize(gray, (48, 48), interpolation=cv2.INTER_AREA)\n",
    "                \n",
    "                flat = np.array(gray48).flatten('C')  # vectorizing the image\n",
    "                flat_str = ' '.join([str(elem) for elem in flat])  # convert the array vector to a string\n",
    "                vectors.append(flat_str)\n",
    "                emos.append('0')  # temporary emotion\n",
    "                Usage.append('Training')  # all for training\n",
    "                \n",
    "                n2 = os.path.join('fer2013', 'us', str(i)+'_'+str(int(fps))+'_48.jpg')\n",
    "                cv2.imwrite(n2, gray48)\n",
    "    c+=1\n",
    "            \n",
    "webcam.release()\n",
    "cv2.destroyAllWindows()"
   ]
  },
  {
   "cell_type": "code",
   "execution_count": 144,
   "id": "0aa343d9",
   "metadata": {},
   "outputs": [
    {
     "name": "stdout",
     "output_type": "stream",
     "text": [
      "elements: 360\n"
     ]
    }
   ],
   "source": [
    "print(f'elements: {len(vectors)}')"
   ]
  },
  {
   "cell_type": "code",
   "execution_count": 145,
   "id": "11007ff4",
   "metadata": {},
   "outputs": [
    {
     "name": "stdout",
     "output_type": "stream",
     "text": [
      "6911\n"
     ]
    }
   ],
   "source": [
    "print(len(vectors[0]))\n",
    "# print(vectors[0])"
   ]
  },
  {
   "cell_type": "code",
   "execution_count": 146,
   "id": "e51cfe0f",
   "metadata": {},
   "outputs": [
    {
     "name": "stdout",
     "output_type": "stream",
     "text": [
      "(360, 3)\n"
     ]
    },
    {
     "data": {
      "text/html": [
       "<div>\n",
       "<style scoped>\n",
       "    .dataframe tbody tr th:only-of-type {\n",
       "        vertical-align: middle;\n",
       "    }\n",
       "\n",
       "    .dataframe tbody tr th {\n",
       "        vertical-align: top;\n",
       "    }\n",
       "\n",
       "    .dataframe thead th {\n",
       "        text-align: right;\n",
       "    }\n",
       "</style>\n",
       "<table border=\"1\" class=\"dataframe\">\n",
       "  <thead>\n",
       "    <tr style=\"text-align: right;\">\n",
       "      <th></th>\n",
       "      <th>emotion</th>\n",
       "      <th>pixels</th>\n",
       "      <th>Usage</th>\n",
       "    </tr>\n",
       "  </thead>\n",
       "  <tbody>\n",
       "    <tr>\n",
       "      <th>0</th>\n",
       "      <td>0</td>\n",
       "      <td>10 10 10 10 10 10 10 10 10 10 11 11 11 13 15 1...</td>\n",
       "      <td>Training</td>\n",
       "    </tr>\n",
       "    <tr>\n",
       "      <th>1</th>\n",
       "      <td>0</td>\n",
       "      <td>20 15 19 24 26 27 30 33 36 42 36 33 36 44 52 6...</td>\n",
       "      <td>Training</td>\n",
       "    </tr>\n",
       "    <tr>\n",
       "      <th>2</th>\n",
       "      <td>0</td>\n",
       "      <td>32 31 31 30 31 32 32 32 34 38 43 44 46 54 67 6...</td>\n",
       "      <td>Training</td>\n",
       "    </tr>\n",
       "    <tr>\n",
       "      <th>3</th>\n",
       "      <td>0</td>\n",
       "      <td>108 147 152 153 147 131 117 115 115 114 115 11...</td>\n",
       "      <td>Training</td>\n",
       "    </tr>\n",
       "    <tr>\n",
       "      <th>4</th>\n",
       "      <td>0</td>\n",
       "      <td>43 34 32 34 34 33 34 37 42 53 69 93 114 122 13...</td>\n",
       "      <td>Training</td>\n",
       "    </tr>\n",
       "  </tbody>\n",
       "</table>\n",
       "</div>"
      ],
      "text/plain": [
       "  emotion                                             pixels     Usage\n",
       "0       0  10 10 10 10 10 10 10 10 10 10 11 11 11 13 15 1...  Training\n",
       "1       0  20 15 19 24 26 27 30 33 36 42 36 33 36 44 52 6...  Training\n",
       "2       0  32 31 31 30 31 32 32 32 34 38 43 44 46 54 67 6...  Training\n",
       "3       0  108 147 152 153 147 131 117 115 115 114 115 11...  Training\n",
       "4       0  43 34 32 34 34 33 34 37 42 53 69 93 114 122 13...  Training"
      ]
     },
     "execution_count": 146,
     "metadata": {},
     "output_type": "execute_result"
    }
   ],
   "source": [
    "addon = {\n",
    "    'emotion': emos,\n",
    "    'pixels': vectors,\n",
    "    'Usage': Usage,\n",
    "}\n",
    "addon_data = pd.DataFrame.from_dict(addon)\n",
    "print(addon_data.shape)\n",
    "addon_data.head()"
   ]
  },
  {
   "cell_type": "code",
   "execution_count": 148,
   "id": "d143bbe5",
   "metadata": {},
   "outputs": [
    {
     "name": "stdout",
     "output_type": "stream",
     "text": [
      "7988\n",
      "2304\n"
     ]
    },
    {
     "data": {
      "image/png": "[encoded data removed]",
      "text/plain": [
       "<Figure size 432x288 with 1 Axes>"
      ]
     },
     "metadata": {
      "needs_background": "light"
     },
     "output_type": "display_data"
    }
   ],
   "source": [
    "lin = addon_data['pixels'][84]\n",
    "print(len(lin))\n",
    "img_dt = np.asarray([int(x) for x in lin.split()])  # numpy array\n",
    "print(len(img_dt))\n",
    "im = img_dt.reshape((48,48)).astype('uint8')  # 2-d numpy array\n",
    "# img = cv2.bitwise_not(img)  # w&b bitwise inverted or do not multiply by 255\n",
    "    \n",
    "# print(f'ID:{id} \\n{clases[clase]}')\n",
    "plt.imshow(im, cmap='gray', interpolation='nearest')\n",
    "plt.axis('off')\n",
    "plt.show()"
   ]
  },
  {
   "cell_type": "code",
   "execution_count": null,
   "id": "dac06dea",
   "metadata": {},
   "outputs": [],
   "source": []
  }
 ],
 "metadata": {
  "kernelspec": {
   "display_name": "Python 3",
   "language": "python",
   "name": "python3"
  },
  "language_info": {
   "codemirror_mode": {
    "name": "ipython",
    "version": 3
   },
   "file_extension": ".py",
   "mimetype": "text/x-python",
   "name": "python",
   "nbconvert_exporter": "python",
   "pygments_lexer": "ipython3",
   "version": "3.8.8"
  }
 },
 "nbformat": 4,
 "nbformat_minor": 5
}
